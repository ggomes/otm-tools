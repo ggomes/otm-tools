{
 "cells": [
  {
   "cell_type": "code",
   "execution_count": null,
   "metadata": {},
   "outputs": [],
   "source": [
    "import os\n",
    "import inspect\n",
    "from pyotm.OTMWrapper import OTMWrapper\n",
    "from matplotlib import pyplot as plt\n",
    "import numpy as np\n",
    "import pathlib"
   ]
  },
  {
   "cell_type": "markdown",
   "metadata": {},
   "source": [
    "## Load the configuration file into an `OTMWrapper` object"
   ]
  },
  {
   "cell_type": "code",
   "execution_count": null,
   "metadata": {},
   "outputs": [],
   "source": [
    "# always check and delete old OTMWrapper objects\n",
    "if \"otmwrapper\" in locals():\n",
    "    del otmwrapper\n",
    "\n",
    "# open the api\n",
    "test_config = str(pathlib.Path().absolute().parent.joinpath('configs').joinpath('test_config.xml'))\n",
    "otmwrapper = OTMWrapper(test_config)\n",
    "otm = otmwrapper.otm\n",
    "\n",
    "print(otm)"
   ]
  },
  {
   "cell_type": "markdown",
   "metadata": {},
   "source": [
    "## Request outputs"
   ]
  },
  {
   "cell_type": "code",
   "execution_count": null,
   "metadata": {},
   "outputs": [],
   "source": [
    "outdt = 5.0\n",
    "prefix = \"exp1\"\n",
    "start_time = 0.0\n",
    "duration = 1000.0\n",
    "output_folder = \"output\"\n",
    "comm_id = None\n",
    "link_ids = [2]\n",
    "os.mkdir(output_folder)"
   ]
  },
  {
   "cell_type": "code",
   "execution_count": null,
   "metadata": {},
   "outputs": [],
   "source": [
    "otm.output().clear()\n",
    "\n",
    "# links\n",
    "otm.output().request_links_flow(prefix,output_folder,comm_id,link_ids,outdt)\n",
    "otm.output().request_links_veh(prefix,output_folder,comm_id,link_ids,outdt)\n",
    "\n",
    "# lane groups\n",
    "otm.output().request_lanegroups(prefix,output_folder)\n",
    "otm.output().request_lanegroup_flw(prefix,output_folder,comm_id,link_ids,outdt)\n",
    "otm.output().request_lanegroup_veh(prefix,output_folder,comm_id,link_ids,outdt)\n",
    "\n",
    "# cells\n",
    "otm.output().request_cell_flw(prefix,output_folder,comm_id,link_ids,outdt)\n",
    "otm.output().request_cell_veh(prefix,output_folder,comm_id,link_ids,outdt)\n",
    "otm.output().request_cell_lanechange_out(prefix,output_folder,comm_id,link_ids,outdt)\n",
    "otm.output().request_cell_lanechange_in(prefix,output_folder,comm_id,link_ids,outdt)"
   ]
  },
  {
   "cell_type": "markdown",
   "metadata": {},
   "source": [
    "## Run the simulation"
   ]
  },
  {
   "cell_type": "code",
   "execution_count": null,
   "metadata": {},
   "outputs": [],
   "source": [
    "otm.run(prefix,None,output_folder,start_time,duration,True) "
   ]
  },
  {
   "cell_type": "markdown",
   "metadata": {},
   "source": [
    "## Link flows"
   ]
  },
  {
   "cell_type": "code",
   "execution_count": null,
   "metadata": {},
   "outputs": [],
   "source": [
    "cumflw, cols, time = otmwrapper.load_data(prefix, output_folder, comm_id, 'link', 'flw')\n",
    "otmwrapper.lineplot(time[1:] , np.diff(cumflw,axis=0)*3600/(time[1]-time[0]) , cols, \"Link flows [vph]\")"
   ]
  },
  {
   "cell_type": "markdown",
   "metadata": {},
   "source": [
    "## Link vehicles"
   ]
  },
  {
   "cell_type": "code",
   "execution_count": null,
   "metadata": {},
   "outputs": [],
   "source": [
    "veh, cols, time = otmwrapper.load_data(prefix, output_folder, comm_id, 'link', 'veh')\n",
    "otmwrapper.lineplot(time , veh , cols)"
   ]
  },
  {
   "cell_type": "markdown",
   "metadata": {},
   "source": [
    "## Lane group flows"
   ]
  },
  {
   "cell_type": "code",
   "execution_count": null,
   "metadata": {},
   "outputs": [],
   "source": [
    "cumflw, cols, time = otmwrapper.load_data(prefix, output_folder, comm_id, 'lg', 'flw')\n",
    "otmwrapper.lineplot(time[1:] , np.diff(cumflw,axis=0)*3600/(time[1]-time[0]) , cols)"
   ]
  },
  {
   "cell_type": "markdown",
   "metadata": {},
   "source": [
    "## Lane group vehicles"
   ]
  },
  {
   "cell_type": "code",
   "execution_count": null,
   "metadata": {},
   "outputs": [],
   "source": [
    "veh, cols, time = otmwrapper.load_data(prefix, output_folder, comm_id, 'lg', 'veh')\n",
    "otmwrapper.lineplot(time, veh , cols)"
   ]
  },
  {
   "cell_type": "markdown",
   "metadata": {},
   "source": [
    "## Cell flows"
   ]
  },
  {
   "cell_type": "code",
   "execution_count": null,
   "metadata": {},
   "outputs": [],
   "source": [
    "cumflw, cols, time = otmwrapper.load_data(prefix, output_folder, comm_id, 'cell', 'flw')\n",
    "otmwrapper.lineplot(time[1:] , np.diff(cumflw,axis=0)*3600/(time[1]-time[0]) , cols)"
   ]
  },
  {
   "cell_type": "markdown",
   "metadata": {},
   "source": [
    "## Cell vehicles"
   ]
  },
  {
   "cell_type": "code",
   "execution_count": null,
   "metadata": {},
   "outputs": [],
   "source": [
    "veh, cols, time = otmwrapper.load_data(prefix, output_folder, comm_id, 'cell', 'veh')\n",
    "otmwrapper.lineplot(time, veh , cols)"
   ]
  },
  {
   "cell_type": "markdown",
   "metadata": {},
   "source": [
    "## Cell lane changes"
   ]
  },
  {
   "cell_type": "code",
   "execution_count": null,
   "metadata": {},
   "outputs": [],
   "source": [
    "cumflw, cols, time = otmwrapper.load_data(prefix, output_folder, comm_id, 'cell', 'lcin')\n",
    "otmwrapper.lineplot(time[1:] , np.diff(cumflw,axis=0)*3600/(time[1]-time[0]) , cols)"
   ]
  },
  {
   "cell_type": "code",
   "execution_count": null,
   "metadata": {},
   "outputs": [],
   "source": [
    "cumflw, cols, time = otmwrapper.load_data(prefix, output_folder, comm_id, 'cell', 'lcout')\n",
    "otmwrapper.lineplot(time[1:] , np.diff(cumflw,axis=0)*3600/(time[1]-time[0]) , cols)"
   ]
  }
 ],
 "metadata": {
  "kernelspec": {
   "display_name": "Python 3",
   "language": "python",
   "name": "python3"
  },
  "language_info": {
   "codemirror_mode": {
    "name": "ipython",
    "version": 3
   },
   "file_extension": ".py",
   "mimetype": "text/x-python",
   "name": "python",
   "nbconvert_exporter": "python",
   "pygments_lexer": "ipython3",
   "version": "3.8.3"
  }
 },
 "nbformat": 4,
 "nbformat_minor": 4
}
